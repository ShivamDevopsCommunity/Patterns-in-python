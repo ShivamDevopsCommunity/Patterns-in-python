{
 "cells": [
  {
   "cell_type": "markdown",
   "metadata": {},
   "source": [
    "## Patters making \n",
    "    "
   ]
  },
  {
   "cell_type": "code",
   "execution_count": null,
   "metadata": {},
   "outputs": [],
   "source": [
    "# this the basic one gor this let's go"
   ]
  },
  {
   "cell_type": "markdown",
   "metadata": {},
   "source": [
    "## 1"
   ]
  },
  {
   "cell_type": "code",
   "execution_count": 2,
   "metadata": {},
   "outputs": [
    {
     "name": "stdout",
     "output_type": "stream",
     "text": [
      "Enter A number of n: 5\n",
      "* * * * * "
     ]
    }
   ],
   "source": [
    "n = int(input(\"Enter A number of n: \"))\n",
    "for i in range(n):\n",
    "    print(\"* \",end=\"\")"
   ]
  },
  {
   "cell_type": "markdown",
   "metadata": {},
   "source": [
    "## 2"
   ]
  },
  {
   "cell_type": "code",
   "execution_count": 3,
   "metadata": {},
   "outputs": [
    {
     "name": "stdout",
     "output_type": "stream",
     "text": [
      "Enter a number of n: 5\n",
      "* * * * * \n",
      "* * * * * \n",
      "* * * * * \n",
      "* * * * * \n",
      "* * * * * \n"
     ]
    }
   ],
   "source": [
    "n = int(input(\"Enter a number of n: \"))\n",
    "for i in range(n):\n",
    "    print(\"* \"*n)\n",
    "    "
   ]
  },
  {
   "cell_type": "markdown",
   "metadata": {},
   "source": [
    " ## 3"
   ]
  },
  {
   "cell_type": "code",
   "execution_count": 4,
   "metadata": {},
   "outputs": [
    {
     "name": "stdout",
     "output_type": "stream",
     "text": [
      "Enter a number of n:6\n",
      "     1\n",
      "    12\n",
      "   123\n",
      "  1234\n",
      " 12345\n",
      "123456\n",
      " 12345\n",
      "  1234\n",
      "   123\n",
      "    12\n",
      "     1\n"
     ]
    }
   ],
   "source": [
    "n = int(input(\"Enter a number of n:\"))\n",
    "for i in range(n):\n",
    "    print(\" \"*(n-i-1),end=\"\")\n",
    "    for j in range(i+1):\n",
    "        print(j+1,end=\"\")\n",
    "    print()\n",
    "for i in range(n-1):\n",
    "    print(\" \"*(i+1),end=\"\")\n",
    "    for j in range(n-i-1):\n",
    "        print(j+1,end=\"\")\n",
    "    print()\n",
    "        "
   ]
  },
  {
   "cell_type": "markdown",
   "metadata": {},
   "source": [
    "## 4"
   ]
  },
  {
   "cell_type": "code",
   "execution_count": 5,
   "metadata": {},
   "outputs": [
    {
     "name": "stdout",
     "output_type": "stream",
     "text": [
      "Enter a number of n:6\n",
      " A         A\n",
      "  B       B\n",
      "   C     C\n",
      "    D   D\n",
      "     E E\n",
      "      F\n"
     ]
    }
   ],
   "source": [
    "n = int(input(\"Enter a number of n:\"))\n",
    "for i in range(n):\n",
    "    print(\" \"*i,chr(65+i),end=\"\")\n",
    "    if i!= n-1:\n",
    "        print(\" \"*(2*n-2*i-3)+chr(65+i),end=\"\")\n",
    "    print()\n"
   ]
  },
  {
   "cell_type": "markdown",
   "metadata": {},
   "source": [
    "##  5"
   ]
  },
  {
   "cell_type": "code",
   "execution_count": 6,
   "metadata": {},
   "outputs": [
    {
     "name": "stdout",
     "output_type": "stream",
     "text": [
      "Enter a number of n:8\n",
      " A             A\n",
      "  B           B\n",
      "   C         C\n",
      "    D       D\n",
      "     E     E\n",
      "      F   F\n",
      "       G G\n",
      "        H\n"
     ]
    }
   ],
   "source": [
    "n = int(input(\"Enter a number of n:\"))\n",
    "for i in range(n):\n",
    "    print(\" \"*i,chr(65+i),end=\"\")\n",
    "    if i!= n-1:\n",
    "        print(\" \"*(2*n-2*i-3)+chr(65+i),end=\"\")\n",
    "    print()\n"
   ]
  },
  {
   "cell_type": "markdown",
   "metadata": {},
   "source": [
    "## 6"
   ]
  },
  {
   "cell_type": "code",
   "execution_count": 7,
   "metadata": {},
   "outputs": [
    {
     "name": "stdout",
     "output_type": "stream",
     "text": [
      "Enter a number of n:9\n",
      " *                * \n",
      "  *              * \n",
      "   *            * \n",
      "    *          * \n",
      "     *        * \n",
      "      *      * \n",
      "       *    * \n",
      "        *  * \n",
      "         * \n"
     ]
    }
   ],
   "source": [
    "n = int(input(\"Enter a number of n:\"))\n",
    "for i in range(n):\n",
    "    print(\" \"*i,\"* \",end='')\n",
    "    if i!= n-1:\n",
    "        print(\" \"*(2*n-2*i-3)+\"* \",end=\"\")\n",
    "    print()\n"
   ]
  },
  {
   "cell_type": "markdown",
   "metadata": {},
   "source": [
    "## 7"
   ]
  },
  {
   "cell_type": "code",
   "execution_count": 8,
   "metadata": {},
   "outputs": [
    {
     "name": "stdout",
     "output_type": "stream",
     "text": [
      "Enter a number of n: 7\n",
      "      * \n",
      "     *  * \n",
      "    *    * \n",
      "   *      * \n",
      "  *        * \n",
      " *          * \n",
      "*            * \n"
     ]
    }
   ],
   "source": [
    "n = int(input(\"Enter a number of n: \"))\n",
    "for i in range(n):\n",
    "    print(\" \"*(n-i-1)+\"* \",end=\"\")\n",
    "    if i>=1:\n",
    "        print(\" \"*(2*i-1)+\"* \",end=\"\")\n",
    "    print()\n"
   ]
  },
  {
   "cell_type": "markdown",
   "metadata": {},
   "source": [
    "## 8"
   ]
  },
  {
   "cell_type": "code",
   "execution_count": 9,
   "metadata": {},
   "outputs": [
    {
     "name": "stdout",
     "output_type": "stream",
     "text": [
      "Enter a number of n: 8\n",
      "              * \n",
      "            * * \n",
      "          * * * \n",
      "        * * * * \n",
      "      * * * * * \n",
      "    * * * * * * \n",
      "  * * * * * * * \n",
      "* * * * * * * * \n",
      "  * * * * * * * \n",
      "    * * * * * * \n",
      "      * * * * * \n",
      "        * * * * \n",
      "          * * * \n",
      "            * * \n",
      "              * \n"
     ]
    },
    {
     "data": {
      "text/plain": [
       "''"
      ]
     },
     "execution_count": 9,
     "metadata": {},
     "output_type": "execute_result"
    }
   ],
   "source": [
    "n = int(input(\"Enter a number of n: \"))\n",
    "for i in range(n):\n",
    "    print(\"  \"*(n-i-1)+\"* \"*(i+1))\n",
    "for i in range(n-1):\n",
    "    print(\"  \"*(i+1)+\"* \"*(n-i-1))\n",
    "    \n",
    "\"\""
   ]
  },
  {
   "cell_type": "markdown",
   "metadata": {},
   "source": [
    "## 9"
   ]
  },
  {
   "cell_type": "code",
   "execution_count": 10,
   "metadata": {},
   "outputs": [
    {
     "name": "stdout",
     "output_type": "stream",
     "text": [
      "Enter a number of n: 9\n",
      "* \n",
      "* * \n",
      "* * * \n",
      "* * * * \n",
      "* * * * * \n",
      "* * * * * * \n",
      "* * * * * * * \n",
      "* * * * * * * * \n",
      "* * * * * * * * * \n",
      "* * * * * * * * \n",
      "* * * * * * * \n",
      "* * * * * * \n",
      "* * * * * \n",
      "* * * * \n",
      "* * * \n",
      "* * \n",
      "* \n"
     ]
    }
   ],
   "source": [
    "n = int(input(\"Enter a number of n: \"))\n",
    "for i in range(n):\n",
    "    print(\"* \"*(i+1))\n",
    "for i in range(n-1):\n",
    "    print(\"* \"*(n-i-1))\n",
    "    \n",
    "    "
   ]
  },
  {
   "cell_type": "markdown",
   "metadata": {},
   "source": [
    "## 10"
   ]
  },
  {
   "cell_type": "code",
   "execution_count": 11,
   "metadata": {},
   "outputs": [
    {
     "name": "stdout",
     "output_type": "stream",
     "text": [
      "Enter a number of n: 9\n",
      "        * \n",
      "       * * \n",
      "      * * * \n",
      "     * * * * \n",
      "    * * * * * \n",
      "   * * * * * * \n",
      "  * * * * * * * \n",
      " * * * * * * * * \n",
      "* * * * * * * * * \n",
      " * * * * * * * * \n",
      "  * * * * * * * \n",
      "   * * * * * * \n",
      "    * * * * * \n",
      "     * * * * \n",
      "      * * * \n",
      "       * * \n",
      "        * \n"
     ]
    }
   ],
   "source": [
    "n = int(input(\"Enter a number of n: \"))\n",
    "for i in range(n):\n",
    "    print(\" \"*(n-i-1),end=\"\")\n",
    "    for j in range(i+1):\n",
    "        print(\"* \",end=\"\")\n",
    "    print()\n",
    "for i in range(n-1):\n",
    "    print(\" \"*(i+1),end=\"\")\n",
    "    for j in range(n-i-1):\n",
    "        print(\"* \",end=\"\")\n",
    "    print()\n",
    "    "
   ]
  },
  {
   "cell_type": "markdown",
   "metadata": {},
   "source": [
    "## 11"
   ]
  },
  {
   "cell_type": "code",
   "execution_count": 12,
   "metadata": {},
   "outputs": [
    {
     "name": "stdout",
     "output_type": "stream",
     "text": [
      "Enter a number of n: 8\n",
      "A B C D E F G H \n",
      " A B C D E F G \n",
      "  A B C D E F \n",
      "   A B C D E \n",
      "    A B C D \n",
      "     A B C \n",
      "      A B \n",
      "       A \n"
     ]
    }
   ],
   "source": [
    "n = int(input(\"Enter a number of n: \"))\n",
    "for i in range(n):\n",
    "    print(\" \"*i,end=\"\")\n",
    "    for j in range(n-i):\n",
    "        print((chr(65+j)+\" \"),end=\"\")\n",
    "    print()\n"
   ]
  },
  {
   "cell_type": "markdown",
   "metadata": {},
   "source": [
    "## 12"
   ]
  },
  {
   "cell_type": "code",
   "execution_count": 13,
   "metadata": {},
   "outputs": [
    {
     "name": "stdout",
     "output_type": "stream",
     "text": [
      "Enter a number of n: 9\n",
      "A B C D E F G H I \n",
      "  A B C D E F G H \n",
      "    A B C D E F G \n",
      "      A B C D E F \n",
      "        A B C D E \n",
      "          A B C D \n",
      "            A B C \n",
      "              A B \n",
      "                A \n"
     ]
    }
   ],
   "source": [
    "\n",
    "n = int(input(\"Enter a number of n: \"))\n",
    "for i in range(n):\n",
    "    print(\"  \"*i,end=\"\")\n",
    "    for j in range(n-i):\n",
    "        print((chr(65+j)+\" \"),end=\"\")\n",
    "    print()\n"
   ]
  },
  {
   "cell_type": "markdown",
   "metadata": {},
   "source": [
    "## 13"
   ]
  },
  {
   "cell_type": "code",
   "execution_count": 14,
   "metadata": {},
   "outputs": [
    {
     "name": "stdout",
     "output_type": "stream",
     "text": [
      "Enter a number of n: 9\n",
      "A \n",
      "A B \n",
      "A B C \n",
      "A B C D \n",
      "A B C D E \n",
      "A B C D E F \n",
      "A B C D E F G \n",
      "A B C D E F G H \n",
      "A B C D E F G H I \n",
      "A B C D E F G H \n",
      "A B C D E F G \n",
      "A B C D E F \n",
      "A B C D E \n",
      "A B C D \n",
      "A B C \n",
      "A B \n",
      "A \n"
     ]
    }
   ],
   "source": [
    "n = int(input(\"Enter a number of n: \"))\n",
    "for i in range(n):\n",
    "    for j in range(i+1):\n",
    "        print((chr(65+j)+\" \"), end=\"\")\n",
    "    print()\n",
    "for i in range(n-1):\n",
    "    for k in range(n-i-1):\n",
    "        print((chr(65+k)+\" \"), end=\"\")\n",
    "    print()"
   ]
  },
  {
   "cell_type": "markdown",
   "metadata": {},
   "source": [
    "## Rangoli"
   ]
  },
  {
   "cell_type": "code",
   "execution_count": 15,
   "metadata": {},
   "outputs": [
    {
     "name": "stdout",
     "output_type": "stream",
     "text": [
      "9\n",
      "----------------i----------------\n",
      "--------------i-h-i--------------\n",
      "------------i-h-g-h-i------------\n",
      "----------i-h-g-f-g-h-i----------\n",
      "--------i-h-g-f-e-f-g-h-i--------\n",
      "------i-h-g-f-e-d-e-f-g-h-i------\n",
      "----i-h-g-f-e-d-c-d-e-f-g-h-i----\n",
      "--i-h-g-f-e-d-c-b-c-d-e-f-g-h-i--\n",
      "i-h-g-f-e-d-c-b-a-b-c-d-e-f-g-h-i\n",
      "--i-h-g-f-e-d-c-b-c-d-e-f-g-h-i--\n",
      "----i-h-g-f-e-d-c-d-e-f-g-h-i----\n",
      "------i-h-g-f-e-d-e-f-g-h-i------\n",
      "--------i-h-g-f-e-f-g-h-i--------\n",
      "----------i-h-g-f-g-h-i----------\n",
      "------------i-h-g-h-i------------\n",
      "--------------i-h-i--------------\n",
      "----------------i----------------\n"
     ]
    }
   ],
   "source": [
    "N=int(input())\n",
    "for i in range (-(N-1),N):\n",
    "    for j in range (-2*(N-1),2*(N-1)+1):\n",
    "        if j%2==0 and (abs(j//2)+abs(i))< N:\n",
    "              print (chr(abs(j//2)+abs(i)+ord('a')),end='')\n",
    "        else:\n",
    "              print('-',end='')\n",
    "    print()"
   ]
  },
  {
   "cell_type": "markdown",
   "metadata": {},
   "source": [
    "## try this also"
   ]
  },
  {
   "cell_type": "code",
   "execution_count": 16,
   "metadata": {},
   "outputs": [
    {
     "name": "stdout",
     "output_type": "stream",
     "text": [
      "9\n",
      "------------.|.------------\n",
      "---------.|..|..|.---------\n",
      "------.|..|..|..|..|.------\n",
      "---.|..|..|..|..|..|..|.---\n",
      "----------WELCOME----------\n",
      "---.|..|..|..|..|..|..|.---\n",
      "------.|..|..|..|..|.------\n",
      "---------.|..|..|.---------\n",
      "------------.|.------------\n"
     ]
    }
   ],
   "source": [
    "height = int((input().split())[0])\n",
    "width = height * 3\n",
    "half = int((height - 1) / 2)\n",
    "\n",
    "# Top half\n",
    "for line in range(1, half + 1):\n",
    "    non_dashes = ((line * 2) - 1)\n",
    "    dashes = int((width - (non_dashes * 3)) / 2)\n",
    "\n",
    "    print(\"%s%s%s\" % (\"-\" * dashes, \".|.\" * non_dashes, \"-\" * dashes))\n",
    "\n",
    "# Middle line\n",
    "print(\"%s%s%s\" % (\n",
    "    \"-\" * (int(width / 2) - 3),\n",
    "    \"WELCOME\",\n",
    "    \"-\" * (int(width / 2) - 3)\n",
    "))\n",
    "\n",
    "# Lower half\n",
    "for line in range(half, 0, -1):\n",
    "    non_dashes = ((line * 2) - 1)\n",
    "    dashes = int((width - (non_dashes * 3)) / 2)\n",
    "\n",
    "    print(\"%s%s%s\" % (\"-\" * dashes, \".|.\" * non_dashes, \"-\" * dashes))"
   ]
  },
  {
   "cell_type": "code",
   "execution_count": null,
   "metadata": {},
   "outputs": [],
   "source": []
  }
 ],
 "metadata": {
  "kernelspec": {
   "display_name": "Python 3",
   "language": "python",
   "name": "python3"
  },
  "language_info": {
   "codemirror_mode": {
    "name": "ipython",
    "version": 3
   },
   "file_extension": ".py",
   "mimetype": "text/x-python",
   "name": "python",
   "nbconvert_exporter": "python",
   "pygments_lexer": "ipython3",
   "version": "3.7.3"
  }
 },
 "nbformat": 4,
 "nbformat_minor": 2
}
